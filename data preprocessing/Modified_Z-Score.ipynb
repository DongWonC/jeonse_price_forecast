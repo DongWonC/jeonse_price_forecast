{
  "cells": [
    {
      "cell_type": "code",
      "execution_count": null,
      "metadata": {},
      "outputs": [],
      "source": [
        "import numpy as np\n",
        "\n",
        "\n",
        "data_APT = data_APT.reset_index(drop=True)\n",
        "\n",
        "\n",
        "data = data_APT\n",
        "\n",
        "def modified_z_score(data):\n",
        "    median = np.median(data)\n",
        "    median_absolute_deviation = np.median(np.abs(data - median))\n",
        "\n",
        "    modified_z_scores = 0.6745 * (data - median) / median_absolute_deviation\n",
        "\n",
        "    return modified_z_scores\n",
        "\n",
        "# Extract the 'Sell_Price' column for outlier detection\n",
        "sell_price = data['Sell_Price']\n",
        "\n",
        "# Calculate modified z-scores for Sell_Price\n",
        "modified_z_scores = modified_z_score(Sell_price)\n",
        "\n",
        "# Set a threshold value for outlier detection\n",
        "threshold = 3\n",
        "\n",
        "# Find indices of outliers above the threshold\n",
        "outlier_indices = np.where(modified_z_scores > threshold)[0]\n",
        "\n",
        "# Delete rows with outliers from the DataFrame\n",
        "data_APT = data.drop(outlier_indices)\n",
        "\n",
        "print(f\"Number of outliers: {len(outlier_indices)}\")\n",
        "data_APT.info()\n",
        "data_APT"
      ]
    }
  ],
  "metadata": {
    "accelerator": "GPU",
    "colab": {
      "gpuType": "T4",
      "provenance": []
    },
    "kernelspec": {
      "display_name": "Python 3",
      "name": "python3"
    },
    "language_info": {
      "name": "python"
    }
  },
  "nbformat": 4,
  "nbformat_minor": 0
}
