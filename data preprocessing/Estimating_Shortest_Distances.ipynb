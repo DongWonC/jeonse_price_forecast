{
  "cells": [
    {
      "cell_type": "code",
      "execution_count": null,
      "metadata": {},
      "outputs": [],
      "source": [
        "import numpy as np\n",
        "import pandas as pd\n",
        "from math import radians, sin, cos, sqrt, atan2\n",
        "\n",
        "# Load real estate and school data\n",
        "real_estate_data = data_APT  # Replace with your real estate data file\n",
        "school_data = pd.read_csv('/content/School.csv', encoding = 'utf-8')  # Replace with your school data file\n",
        "\n",
        "# Function to calculate Haversine distance\n",
        "def haversine_distance(lat1, lon1, lat2, lon2):\n",
        "    R = 6371000  # Radius of Earth in meters\n",
        "    phi1 = radians(lat1)\n",
        "    phi2 = radians(lat2)\n",
        "\n",
        "    delta_phi = radians(lat2 - lat1)\n",
        "    delta_lambda = radians(lon2 - lon1)\n",
        "\n",
        "    a = sin(delta_phi / 2) * sin(delta_phi / 2) + cos(phi1) * cos(phi2) * sin(delta_lambda / 2) * sin(delta_lambda / 2)\n",
        "    c = 2 * atan2(sqrt(a), sqrt(1 - a))\n",
        "\n",
        "    distance = R * c  # Distance in meters\n",
        "    return distance\n",
        "\n",
        "# Calculate shortest distance for each real estate to each school\n",
        "shortest_distances = []\n",
        "\n",
        "for _, real_estate_row in real_estate_data.iterrows():\n",
        "    real_estate_lat = real_estate_row['latitude']\n",
        "    real_estate_lon = real_estate_row['longitude']\n",
        "\n",
        "    distances_to_schools = []\n",
        "    for _, school_row in school_data.iterrows():\n",
        "        school_lat = school_row['latitude']\n",
        "        school_lon = school_row['longitude']\n",
        "\n",
        "        distance = haversine_distance(real_estate_lat, real_estate_lon, school_lat, school_lon)\n",
        "        distances_to_schools.append(distance)\n",
        "\n",
        "    shortest_distance = min(distances_to_schools)\n",
        "    shortest_distances.append(shortest_distance)\n",
        "\n",
        "# Add the shortest distances to schools to the real estate data\n",
        "real_estate_data['Shortest_Distance_to_School'] = shortest_distances\n",
        "\n",
        "#\n",
        "\n",
        "# Save the merged data to a new CSV file\n",
        "real_estate_data.to_csv('data_APT.csv', index=False)\n",
        "\n",
        "data_APT = real_estate_data\n",
        "\n",
        "data_APT\n",
        "\n"
      ]
    }
  ],
  "metadata": {
    "accelerator": "GPU",
    "colab": {
      "gpuType": "T4",
      "provenance": []
    },
    "kernelspec": {
      "display_name": "Python 3",
      "name": "python3"
    },
    "language_info": {
      "name": "python"
    }
  },
  "nbformat": 4,
  "nbformat_minor": 0
}
