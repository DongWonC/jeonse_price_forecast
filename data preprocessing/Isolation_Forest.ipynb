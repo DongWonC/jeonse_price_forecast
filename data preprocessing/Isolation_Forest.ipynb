{
  "cells": [
    {
      "cell_type": "code",
      "execution_count": null,
      "metadata": {},
      "outputs": [],
      "source": [
        "import pandas as pd\n",
        "import numpy as np\n",
        "from sklearn.ensemble import IsolationForest\n",
        "\n",
        "# Load your dataset (replace 'your_dataset.csv' with the actual dataset file or loading code)\n",
        "# data = pd.read_csv('your_dataset.csv')\n",
        "\n",
        "# Select the features for outlier detection (excluding the target column 'JS_Price')\n",
        "X = data.drop(columns=['JS_Price'])\n",
        "\n",
        "# Fit the Isolation Forest model\n",
        "iso_forest = IsolationForest(contamination=0.05)  # You can adjust the contamination parameter\n",
        "outlier_labels = iso_forest.fit_predict(X)\n",
        "\n",
        "# Find indices of outliers (-1 labels indicate outliers)\n",
        "outlier_indices = np.where(outlier_labels == -1)[0]\n",
        "\n",
        "# Create a DataFrame containing only the inliers\n",
        "data_APT = data.drop(outlier_indices)\n",
        "\n",
        "# Print the number of outliers detected\n",
        "print(f\"Number of outliers detected by Isolation Forest: {len(outlier_indices)}\")\n",
        "\n",
        "# Optionally, you can reset the index of the new DataFrame\n",
        "data_APT.reset_index(drop=True, inplace=True)\n",
        "\n",
        "# Display the updated DataFrame (data_APT) with outliers removed\n",
        "data_APT.info()\n",
        "data_APT"
      ]
    }
  ],
  "metadata": {
    "colab": {
      "provenance": []
    },
    "kernelspec": {
      "display_name": "Python 3",
      "name": "python3"
    },
    "language_info": {
      "name": "python"
    }
  },
  "nbformat": 4,
  "nbformat_minor": 0
}
