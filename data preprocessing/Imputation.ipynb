{
  "cells": [
    {
      "cell_type": "markdown",
      "metadata": {},
      "source": [
        "# Imputation of Missing Values with XGBoost"
      ]
    },
    {
      "cell_type": "code",
      "execution_count": null,
      "metadata": {},
      "outputs": [],
      "source": [
        "import xgboost as xgb\n",
        "import pandas as pd\n",
        "import numpy as np\n",
        "\n",
        "# Load your dataset (replace 'your_dataset.csv' with the actual file path)\n",
        "data_APT = random_sample\n",
        "\n",
        "# Columns with missing values\n",
        "columns_with_missing = [\"IR\", \"Population\", \"LC_index\", \"SDT_index\", \"Crime_Rates\"]\n",
        "\n",
        "# Split into training and imputation sets based on missing values in the target columns\n",
        "train_set = data_APT.dropna(subset=columns_with_missing)\n",
        "impute_set = data_APT[data_APT[columns_with_missing].isnull().any(axis=1)]\n",
        "\n",
        "# Separate features and target variables\n",
        "X_train = train_set.drop(columns=columns_with_missing)\n",
        "X_impute = impute_set.drop(columns=columns_with_missing)\n",
        "\n",
        "# Initialize an empty dictionary to store models\n",
        "models = {}\n",
        "\n",
        "# Set parameters for XGBoost model (you can adjust these based on your requirements)\n",
        "params = {\n",
        "    'objective': 'reg:squarederror',\n",
        "    'eval_metric': 'rmse',\n",
        "    'max_depth': 6,\n",
        "    'learning_rate': 0.1,\n",
        "    'n_estimators': 100  # Use 'n_estimators' instead of 'num_boost_round'\n",
        "}\n",
        "\n",
        "# Train separate XGBoost models for each target column\n",
        "for column in columns_with_missing:\n",
        "    y_train = train_set[column]\n",
        "    model = xgb.XGBRegressor(**params)\n",
        "    model.fit(X_train, y_train)\n",
        "    models[column] = model\n",
        "\n",
        "# Predict missing values in the imputation set for each target column\n",
        "imputed_values = pd.DataFrame()\n",
        "for column in columns_with_missing:\n",
        "    model = models[column]\n",
        "    imputed_values[column] = model.predict(X_impute)\n",
        "\n",
        "# Replace missing values in the original dataset with the predicted values\n",
        "data_APT.loc[data_APT[columns_with_missing].isnull().any(axis=1), columns_with_missing] = imputed_values.values\n",
        "\n",
        "# The missing values have been imputed using XGBoost\n",
        "nans = data_APT.isnull().sum()\n",
        "print(nans)\n",
        "data_APT.info()\n",
        "data_APT"
      ]
    }
  ],
  "metadata": {
    "accelerator": "GPU",
    "colab": {
      "gpuType": "T4",
      "provenance": []
    },
    "kernelspec": {
      "display_name": "Python 3",
      "name": "python3"
    },
    "language_info": {
      "name": "python"
    }
  },
  "nbformat": 4,
  "nbformat_minor": 0
}
